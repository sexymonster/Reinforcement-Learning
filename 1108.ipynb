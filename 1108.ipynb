{
  "nbformat": 4,
  "nbformat_minor": 0,
  "metadata": {
    "colab": {
      "provenance": [],
      "authorship_tag": "ABX9TyOMDUxlwWte8/zOVH1IxA2S",
      "include_colab_link": true
    },
    "kernelspec": {
      "name": "python3",
      "display_name": "Python 3"
    },
    "language_info": {
      "name": "python"
    }
  },
  "cells": [
    {
      "cell_type": "markdown",
      "metadata": {
        "id": "view-in-github",
        "colab_type": "text"
      },
      "source": [
        "<a href=\"https://colab.research.google.com/github/sexymonster/Reinforcement-Learning/blob/main/1108.ipynb\" target=\"_parent\"><img src=\"https://colab.research.google.com/assets/colab-badge.svg\" alt=\"Open In Colab\"/></a>"
      ]
    },
    {
      "cell_type": "code",
      "execution_count": 4,
      "metadata": {
        "colab": {
          "base_uri": "https://localhost:8080/"
        },
        "id": "5s0ZLVVQoTBO",
        "outputId": "82107287-bbff-46d1-f387-094c91b5ede5"
      },
      "outputs": [
        {
          "output_type": "stream",
          "name": "stdout",
          "text": [
            "Looking in indexes: https://pypi.org/simple, https://us-python.pkg.dev/colab-wheels/public/simple/\n",
            "Collecting gym_anytrading\n",
            "  Downloading gym_anytrading-1.3.2-py3-none-any.whl (171 kB)\n",
            "\u001b[K     |████████████████████████████████| 171 kB 12.5 MB/s \n",
            "\u001b[?25hRequirement already satisfied: numpy>=1.16.4 in /usr/local/lib/python3.7/dist-packages (from gym_anytrading) (1.21.6)\n",
            "Requirement already satisfied: gym>=0.12.5 in /usr/local/lib/python3.7/dist-packages (from gym_anytrading) (0.25.2)\n",
            "Requirement already satisfied: pandas>=0.24.2 in /usr/local/lib/python3.7/dist-packages (from gym_anytrading) (1.3.5)\n",
            "Requirement already satisfied: matplotlib>=3.1.1 in /usr/local/lib/python3.7/dist-packages (from gym_anytrading) (3.2.2)\n",
            "Requirement already satisfied: gym-notices>=0.0.4 in /usr/local/lib/python3.7/dist-packages (from gym>=0.12.5->gym_anytrading) (0.0.8)\n",
            "Requirement already satisfied: importlib-metadata>=4.8.0 in /usr/local/lib/python3.7/dist-packages (from gym>=0.12.5->gym_anytrading) (4.13.0)\n",
            "Requirement already satisfied: cloudpickle>=1.2.0 in /usr/local/lib/python3.7/dist-packages (from gym>=0.12.5->gym_anytrading) (1.5.0)\n",
            "Requirement already satisfied: zipp>=0.5 in /usr/local/lib/python3.7/dist-packages (from importlib-metadata>=4.8.0->gym>=0.12.5->gym_anytrading) (3.10.0)\n",
            "Requirement already satisfied: typing-extensions>=3.6.4 in /usr/local/lib/python3.7/dist-packages (from importlib-metadata>=4.8.0->gym>=0.12.5->gym_anytrading) (4.1.1)\n",
            "Requirement already satisfied: cycler>=0.10 in /usr/local/lib/python3.7/dist-packages (from matplotlib>=3.1.1->gym_anytrading) (0.11.0)\n",
            "Requirement already satisfied: kiwisolver>=1.0.1 in /usr/local/lib/python3.7/dist-packages (from matplotlib>=3.1.1->gym_anytrading) (1.4.4)\n",
            "Requirement already satisfied: pyparsing!=2.0.4,!=2.1.2,!=2.1.6,>=2.0.1 in /usr/local/lib/python3.7/dist-packages (from matplotlib>=3.1.1->gym_anytrading) (3.0.9)\n",
            "Requirement already satisfied: python-dateutil>=2.1 in /usr/local/lib/python3.7/dist-packages (from matplotlib>=3.1.1->gym_anytrading) (2.8.2)\n",
            "Requirement already satisfied: pytz>=2017.3 in /usr/local/lib/python3.7/dist-packages (from pandas>=0.24.2->gym_anytrading) (2022.5)\n",
            "Requirement already satisfied: six>=1.5 in /usr/local/lib/python3.7/dist-packages (from python-dateutil>=2.1->matplotlib>=3.1.1->gym_anytrading) (1.15.0)\n",
            "Installing collected packages: gym-anytrading\n",
            "Successfully installed gym-anytrading-1.3.2\n"
          ]
        }
      ],
      "source": [
        "pip install gym_anytrading"
      ]
    },
    {
      "cell_type": "code",
      "source": [
        "!pip install yfinance"
      ],
      "metadata": {
        "colab": {
          "base_uri": "https://localhost:8080/",
          "height": 563
        },
        "id": "AhKJx0ueZZjW",
        "outputId": "791b6ddd-b080-4b63-88ed-52314dae1a41"
      },
      "execution_count": 6,
      "outputs": [
        {
          "output_type": "stream",
          "name": "stdout",
          "text": [
            "Looking in indexes: https://pypi.org/simple, https://us-python.pkg.dev/colab-wheels/public/simple/\n",
            "Collecting yfinance\n",
            "  Downloading yfinance-0.1.85-py2.py3-none-any.whl (29 kB)\n",
            "Requirement already satisfied: lxml>=4.5.1 in /usr/local/lib/python3.7/dist-packages (from yfinance) (4.9.1)\n",
            "Requirement already satisfied: appdirs>=1.4.4 in /usr/local/lib/python3.7/dist-packages (from yfinance) (1.4.4)\n",
            "Requirement already satisfied: multitasking>=0.0.7 in /usr/local/lib/python3.7/dist-packages (from yfinance) (0.0.11)\n",
            "Requirement already satisfied: pandas>=0.24.0 in /usr/local/lib/python3.7/dist-packages (from yfinance) (1.3.5)\n",
            "Requirement already satisfied: numpy>=1.15 in /usr/local/lib/python3.7/dist-packages (from yfinance) (1.21.6)\n",
            "Collecting requests>=2.26\n",
            "  Downloading requests-2.28.1-py3-none-any.whl (62 kB)\n",
            "\u001b[K     |████████████████████████████████| 62 kB 1.3 MB/s \n",
            "\u001b[?25hRequirement already satisfied: python-dateutil>=2.7.3 in /usr/local/lib/python3.7/dist-packages (from pandas>=0.24.0->yfinance) (2.8.2)\n",
            "Requirement already satisfied: pytz>=2017.3 in /usr/local/lib/python3.7/dist-packages (from pandas>=0.24.0->yfinance) (2022.5)\n",
            "Requirement already satisfied: six>=1.5 in /usr/local/lib/python3.7/dist-packages (from python-dateutil>=2.7.3->pandas>=0.24.0->yfinance) (1.15.0)\n",
            "Requirement already satisfied: urllib3<1.27,>=1.21.1 in /usr/local/lib/python3.7/dist-packages (from requests>=2.26->yfinance) (1.24.3)\n",
            "Requirement already satisfied: certifi>=2017.4.17 in /usr/local/lib/python3.7/dist-packages (from requests>=2.26->yfinance) (2022.9.24)\n",
            "Requirement already satisfied: idna<4,>=2.5 in /usr/local/lib/python3.7/dist-packages (from requests>=2.26->yfinance) (2.10)\n",
            "Requirement already satisfied: charset-normalizer<3,>=2 in /usr/local/lib/python3.7/dist-packages (from requests>=2.26->yfinance) (2.1.1)\n",
            "Installing collected packages: requests, yfinance\n",
            "  Attempting uninstall: requests\n",
            "    Found existing installation: requests 2.23.0\n",
            "    Uninstalling requests-2.23.0:\n",
            "      Successfully uninstalled requests-2.23.0\n",
            "Successfully installed requests-2.28.1 yfinance-0.1.85\n"
          ]
        },
        {
          "output_type": "display_data",
          "data": {
            "application/vnd.colab-display-data+json": {
              "pip_warning": {
                "packages": [
                  "requests"
                ]
              }
            }
          },
          "metadata": {}
        }
      ]
    },
    {
      "cell_type": "code",
      "source": [
        "import random\n",
        "import gym\n",
        "import gym_anytrading\n",
        "import numpy as np\n",
        "from collections import deque\n",
        "from keras.models import Sequential\n",
        "from keras.layers import Dense\n",
        "from keras.optimizers import Adam\n",
        "from keras import backend as K\n",
        "import yfinance as yf\n",
        "import tensorflow as tf\n",
        "from pandas_datareader import data as pdr"
      ],
      "metadata": {
        "id": "PH3pqZ6goXXv"
      },
      "execution_count": 9,
      "outputs": []
    },
    {
      "cell_type": "code",
      "source": [
        "yf.pdr_override()\n",
        "df = pdr.get_data_yahoo(\"005930.KS\", start = \"2012-10-25\").reset_index()\n",
        "df.to_csv(\"samsung.csv\", index = False)\n",
        "df.head()"
      ],
      "metadata": {
        "colab": {
          "base_uri": "https://localhost:8080/",
          "height": 224
        },
        "id": "ELWU-OgxZIpL",
        "outputId": "1a86ca1b-3807-4288-9a1d-162d967f0f4e"
      },
      "execution_count": 10,
      "outputs": [
        {
          "output_type": "stream",
          "name": "stdout",
          "text": [
            "\r[*********************100%***********************]  1 of 1 completed\n"
          ]
        },
        {
          "output_type": "execute_result",
          "data": {
            "text/plain": [
              "        Date     Open     High      Low    Close     Adj Close    Volume\n",
              "0 2012-10-25  25920.0  26440.0  25820.0  26440.0  21155.257812  11881100\n",
              "1 2012-10-26  26120.0  26240.0  25740.0  25740.0  20595.173828  13793850\n",
              "2 2012-10-29  25960.0  25980.0  25580.0  25980.0  20787.197266  11448050\n",
              "3 2012-10-30  25980.0  26080.0  25840.0  25960.0  20771.195312   6643850\n",
              "4 2012-10-31  26120.0  26240.0  25980.0  26200.0  20963.232422  10604850"
            ],
            "text/html": [
              "\n",
              "  <div id=\"df-559129d2-0b1d-4841-8b7d-98d329e744a3\">\n",
              "    <div class=\"colab-df-container\">\n",
              "      <div>\n",
              "<style scoped>\n",
              "    .dataframe tbody tr th:only-of-type {\n",
              "        vertical-align: middle;\n",
              "    }\n",
              "\n",
              "    .dataframe tbody tr th {\n",
              "        vertical-align: top;\n",
              "    }\n",
              "\n",
              "    .dataframe thead th {\n",
              "        text-align: right;\n",
              "    }\n",
              "</style>\n",
              "<table border=\"1\" class=\"dataframe\">\n",
              "  <thead>\n",
              "    <tr style=\"text-align: right;\">\n",
              "      <th></th>\n",
              "      <th>Date</th>\n",
              "      <th>Open</th>\n",
              "      <th>High</th>\n",
              "      <th>Low</th>\n",
              "      <th>Close</th>\n",
              "      <th>Adj Close</th>\n",
              "      <th>Volume</th>\n",
              "    </tr>\n",
              "  </thead>\n",
              "  <tbody>\n",
              "    <tr>\n",
              "      <th>0</th>\n",
              "      <td>2012-10-25</td>\n",
              "      <td>25920.0</td>\n",
              "      <td>26440.0</td>\n",
              "      <td>25820.0</td>\n",
              "      <td>26440.0</td>\n",
              "      <td>21155.257812</td>\n",
              "      <td>11881100</td>\n",
              "    </tr>\n",
              "    <tr>\n",
              "      <th>1</th>\n",
              "      <td>2012-10-26</td>\n",
              "      <td>26120.0</td>\n",
              "      <td>26240.0</td>\n",
              "      <td>25740.0</td>\n",
              "      <td>25740.0</td>\n",
              "      <td>20595.173828</td>\n",
              "      <td>13793850</td>\n",
              "    </tr>\n",
              "    <tr>\n",
              "      <th>2</th>\n",
              "      <td>2012-10-29</td>\n",
              "      <td>25960.0</td>\n",
              "      <td>25980.0</td>\n",
              "      <td>25580.0</td>\n",
              "      <td>25980.0</td>\n",
              "      <td>20787.197266</td>\n",
              "      <td>11448050</td>\n",
              "    </tr>\n",
              "    <tr>\n",
              "      <th>3</th>\n",
              "      <td>2012-10-30</td>\n",
              "      <td>25980.0</td>\n",
              "      <td>26080.0</td>\n",
              "      <td>25840.0</td>\n",
              "      <td>25960.0</td>\n",
              "      <td>20771.195312</td>\n",
              "      <td>6643850</td>\n",
              "    </tr>\n",
              "    <tr>\n",
              "      <th>4</th>\n",
              "      <td>2012-10-31</td>\n",
              "      <td>26120.0</td>\n",
              "      <td>26240.0</td>\n",
              "      <td>25980.0</td>\n",
              "      <td>26200.0</td>\n",
              "      <td>20963.232422</td>\n",
              "      <td>10604850</td>\n",
              "    </tr>\n",
              "  </tbody>\n",
              "</table>\n",
              "</div>\n",
              "      <button class=\"colab-df-convert\" onclick=\"convertToInteractive('df-559129d2-0b1d-4841-8b7d-98d329e744a3')\"\n",
              "              title=\"Convert this dataframe to an interactive table.\"\n",
              "              style=\"display:none;\">\n",
              "        \n",
              "  <svg xmlns=\"http://www.w3.org/2000/svg\" height=\"24px\"viewBox=\"0 0 24 24\"\n",
              "       width=\"24px\">\n",
              "    <path d=\"M0 0h24v24H0V0z\" fill=\"none\"/>\n",
              "    <path d=\"M18.56 5.44l.94 2.06.94-2.06 2.06-.94-2.06-.94-.94-2.06-.94 2.06-2.06.94zm-11 1L8.5 8.5l.94-2.06 2.06-.94-2.06-.94L8.5 2.5l-.94 2.06-2.06.94zm10 10l.94 2.06.94-2.06 2.06-.94-2.06-.94-.94-2.06-.94 2.06-2.06.94z\"/><path d=\"M17.41 7.96l-1.37-1.37c-.4-.4-.92-.59-1.43-.59-.52 0-1.04.2-1.43.59L10.3 9.45l-7.72 7.72c-.78.78-.78 2.05 0 2.83L4 21.41c.39.39.9.59 1.41.59.51 0 1.02-.2 1.41-.59l7.78-7.78 2.81-2.81c.8-.78.8-2.07 0-2.86zM5.41 20L4 18.59l7.72-7.72 1.47 1.35L5.41 20z\"/>\n",
              "  </svg>\n",
              "      </button>\n",
              "      \n",
              "  <style>\n",
              "    .colab-df-container {\n",
              "      display:flex;\n",
              "      flex-wrap:wrap;\n",
              "      gap: 12px;\n",
              "    }\n",
              "\n",
              "    .colab-df-convert {\n",
              "      background-color: #E8F0FE;\n",
              "      border: none;\n",
              "      border-radius: 50%;\n",
              "      cursor: pointer;\n",
              "      display: none;\n",
              "      fill: #1967D2;\n",
              "      height: 32px;\n",
              "      padding: 0 0 0 0;\n",
              "      width: 32px;\n",
              "    }\n",
              "\n",
              "    .colab-df-convert:hover {\n",
              "      background-color: #E2EBFA;\n",
              "      box-shadow: 0px 1px 2px rgba(60, 64, 67, 0.3), 0px 1px 3px 1px rgba(60, 64, 67, 0.15);\n",
              "      fill: #174EA6;\n",
              "    }\n",
              "\n",
              "    [theme=dark] .colab-df-convert {\n",
              "      background-color: #3B4455;\n",
              "      fill: #D2E3FC;\n",
              "    }\n",
              "\n",
              "    [theme=dark] .colab-df-convert:hover {\n",
              "      background-color: #434B5C;\n",
              "      box-shadow: 0px 1px 3px 1px rgba(0, 0, 0, 0.15);\n",
              "      filter: drop-shadow(0px 1px 2px rgba(0, 0, 0, 0.3));\n",
              "      fill: #FFFFFF;\n",
              "    }\n",
              "  </style>\n",
              "\n",
              "      <script>\n",
              "        const buttonEl =\n",
              "          document.querySelector('#df-559129d2-0b1d-4841-8b7d-98d329e744a3 button.colab-df-convert');\n",
              "        buttonEl.style.display =\n",
              "          google.colab.kernel.accessAllowed ? 'block' : 'none';\n",
              "\n",
              "        async function convertToInteractive(key) {\n",
              "          const element = document.querySelector('#df-559129d2-0b1d-4841-8b7d-98d329e744a3');\n",
              "          const dataTable =\n",
              "            await google.colab.kernel.invokeFunction('convertToInteractive',\n",
              "                                                     [key], {});\n",
              "          if (!dataTable) return;\n",
              "\n",
              "          const docLinkHtml = 'Like what you see? Visit the ' +\n",
              "            '<a target=\"_blank\" href=https://colab.research.google.com/notebooks/data_table.ipynb>data table notebook</a>'\n",
              "            + ' to learn more about interactive tables.';\n",
              "          element.innerHTML = '';\n",
              "          dataTable['output_type'] = 'display_data';\n",
              "          await google.colab.output.renderOutput(dataTable, element);\n",
              "          const docLink = document.createElement('div');\n",
              "          docLink.innerHTML = docLinkHtml;\n",
              "          element.appendChild(docLink);\n",
              "        }\n",
              "      </script>\n",
              "    </div>\n",
              "  </div>\n",
              "  "
            ]
          },
          "metadata": {},
          "execution_count": 10
        }
      ]
    },
    {
      "cell_type": "code",
      "source": [
        "df.dtypes"
      ],
      "metadata": {
        "colab": {
          "base_uri": "https://localhost:8080/"
        },
        "id": "M185cgL2ZIWv",
        "outputId": "9b478e13-e18a-4d5f-9972-40427fe55b9c"
      },
      "execution_count": 11,
      "outputs": [
        {
          "output_type": "execute_result",
          "data": {
            "text/plain": [
              "Date         datetime64[ns]\n",
              "Open                float64\n",
              "High                float64\n",
              "Low                 float64\n",
              "Close               float64\n",
              "Adj Close           float64\n",
              "Volume                int64\n",
              "dtype: object"
            ]
          },
          "metadata": {},
          "execution_count": 11
        }
      ]
    },
    {
      "cell_type": "code",
      "source": [
        "df.set_index(\"Date\", inplace = True)\n",
        "df.head()"
      ],
      "metadata": {
        "colab": {
          "base_uri": "https://localhost:8080/",
          "height": 237
        },
        "id": "PxRsZ6V2ZITc",
        "outputId": "b69e43f9-11b6-475b-afff-e430c0228590"
      },
      "execution_count": 12,
      "outputs": [
        {
          "output_type": "execute_result",
          "data": {
            "text/plain": [
              "               Open     High      Low    Close     Adj Close    Volume\n",
              "Date                                                                  \n",
              "2012-10-25  25920.0  26440.0  25820.0  26440.0  21155.257812  11881100\n",
              "2012-10-26  26120.0  26240.0  25740.0  25740.0  20595.173828  13793850\n",
              "2012-10-29  25960.0  25980.0  25580.0  25980.0  20787.197266  11448050\n",
              "2012-10-30  25980.0  26080.0  25840.0  25960.0  20771.195312   6643850\n",
              "2012-10-31  26120.0  26240.0  25980.0  26200.0  20963.232422  10604850"
            ],
            "text/html": [
              "\n",
              "  <div id=\"df-8ef7a2fa-3417-4309-88e7-bafdc6561ef0\">\n",
              "    <div class=\"colab-df-container\">\n",
              "      <div>\n",
              "<style scoped>\n",
              "    .dataframe tbody tr th:only-of-type {\n",
              "        vertical-align: middle;\n",
              "    }\n",
              "\n",
              "    .dataframe tbody tr th {\n",
              "        vertical-align: top;\n",
              "    }\n",
              "\n",
              "    .dataframe thead th {\n",
              "        text-align: right;\n",
              "    }\n",
              "</style>\n",
              "<table border=\"1\" class=\"dataframe\">\n",
              "  <thead>\n",
              "    <tr style=\"text-align: right;\">\n",
              "      <th></th>\n",
              "      <th>Open</th>\n",
              "      <th>High</th>\n",
              "      <th>Low</th>\n",
              "      <th>Close</th>\n",
              "      <th>Adj Close</th>\n",
              "      <th>Volume</th>\n",
              "    </tr>\n",
              "    <tr>\n",
              "      <th>Date</th>\n",
              "      <th></th>\n",
              "      <th></th>\n",
              "      <th></th>\n",
              "      <th></th>\n",
              "      <th></th>\n",
              "      <th></th>\n",
              "    </tr>\n",
              "  </thead>\n",
              "  <tbody>\n",
              "    <tr>\n",
              "      <th>2012-10-25</th>\n",
              "      <td>25920.0</td>\n",
              "      <td>26440.0</td>\n",
              "      <td>25820.0</td>\n",
              "      <td>26440.0</td>\n",
              "      <td>21155.257812</td>\n",
              "      <td>11881100</td>\n",
              "    </tr>\n",
              "    <tr>\n",
              "      <th>2012-10-26</th>\n",
              "      <td>26120.0</td>\n",
              "      <td>26240.0</td>\n",
              "      <td>25740.0</td>\n",
              "      <td>25740.0</td>\n",
              "      <td>20595.173828</td>\n",
              "      <td>13793850</td>\n",
              "    </tr>\n",
              "    <tr>\n",
              "      <th>2012-10-29</th>\n",
              "      <td>25960.0</td>\n",
              "      <td>25980.0</td>\n",
              "      <td>25580.0</td>\n",
              "      <td>25980.0</td>\n",
              "      <td>20787.197266</td>\n",
              "      <td>11448050</td>\n",
              "    </tr>\n",
              "    <tr>\n",
              "      <th>2012-10-30</th>\n",
              "      <td>25980.0</td>\n",
              "      <td>26080.0</td>\n",
              "      <td>25840.0</td>\n",
              "      <td>25960.0</td>\n",
              "      <td>20771.195312</td>\n",
              "      <td>6643850</td>\n",
              "    </tr>\n",
              "    <tr>\n",
              "      <th>2012-10-31</th>\n",
              "      <td>26120.0</td>\n",
              "      <td>26240.0</td>\n",
              "      <td>25980.0</td>\n",
              "      <td>26200.0</td>\n",
              "      <td>20963.232422</td>\n",
              "      <td>10604850</td>\n",
              "    </tr>\n",
              "  </tbody>\n",
              "</table>\n",
              "</div>\n",
              "      <button class=\"colab-df-convert\" onclick=\"convertToInteractive('df-8ef7a2fa-3417-4309-88e7-bafdc6561ef0')\"\n",
              "              title=\"Convert this dataframe to an interactive table.\"\n",
              "              style=\"display:none;\">\n",
              "        \n",
              "  <svg xmlns=\"http://www.w3.org/2000/svg\" height=\"24px\"viewBox=\"0 0 24 24\"\n",
              "       width=\"24px\">\n",
              "    <path d=\"M0 0h24v24H0V0z\" fill=\"none\"/>\n",
              "    <path d=\"M18.56 5.44l.94 2.06.94-2.06 2.06-.94-2.06-.94-.94-2.06-.94 2.06-2.06.94zm-11 1L8.5 8.5l.94-2.06 2.06-.94-2.06-.94L8.5 2.5l-.94 2.06-2.06.94zm10 10l.94 2.06.94-2.06 2.06-.94-2.06-.94-.94-2.06-.94 2.06-2.06.94z\"/><path d=\"M17.41 7.96l-1.37-1.37c-.4-.4-.92-.59-1.43-.59-.52 0-1.04.2-1.43.59L10.3 9.45l-7.72 7.72c-.78.78-.78 2.05 0 2.83L4 21.41c.39.39.9.59 1.41.59.51 0 1.02-.2 1.41-.59l7.78-7.78 2.81-2.81c.8-.78.8-2.07 0-2.86zM5.41 20L4 18.59l7.72-7.72 1.47 1.35L5.41 20z\"/>\n",
              "  </svg>\n",
              "      </button>\n",
              "      \n",
              "  <style>\n",
              "    .colab-df-container {\n",
              "      display:flex;\n",
              "      flex-wrap:wrap;\n",
              "      gap: 12px;\n",
              "    }\n",
              "\n",
              "    .colab-df-convert {\n",
              "      background-color: #E8F0FE;\n",
              "      border: none;\n",
              "      border-radius: 50%;\n",
              "      cursor: pointer;\n",
              "      display: none;\n",
              "      fill: #1967D2;\n",
              "      height: 32px;\n",
              "      padding: 0 0 0 0;\n",
              "      width: 32px;\n",
              "    }\n",
              "\n",
              "    .colab-df-convert:hover {\n",
              "      background-color: #E2EBFA;\n",
              "      box-shadow: 0px 1px 2px rgba(60, 64, 67, 0.3), 0px 1px 3px 1px rgba(60, 64, 67, 0.15);\n",
              "      fill: #174EA6;\n",
              "    }\n",
              "\n",
              "    [theme=dark] .colab-df-convert {\n",
              "      background-color: #3B4455;\n",
              "      fill: #D2E3FC;\n",
              "    }\n",
              "\n",
              "    [theme=dark] .colab-df-convert:hover {\n",
              "      background-color: #434B5C;\n",
              "      box-shadow: 0px 1px 3px 1px rgba(0, 0, 0, 0.15);\n",
              "      filter: drop-shadow(0px 1px 2px rgba(0, 0, 0, 0.3));\n",
              "      fill: #FFFFFF;\n",
              "    }\n",
              "  </style>\n",
              "\n",
              "      <script>\n",
              "        const buttonEl =\n",
              "          document.querySelector('#df-8ef7a2fa-3417-4309-88e7-bafdc6561ef0 button.colab-df-convert');\n",
              "        buttonEl.style.display =\n",
              "          google.colab.kernel.accessAllowed ? 'block' : 'none';\n",
              "\n",
              "        async function convertToInteractive(key) {\n",
              "          const element = document.querySelector('#df-8ef7a2fa-3417-4309-88e7-bafdc6561ef0');\n",
              "          const dataTable =\n",
              "            await google.colab.kernel.invokeFunction('convertToInteractive',\n",
              "                                                     [key], {});\n",
              "          if (!dataTable) return;\n",
              "\n",
              "          const docLinkHtml = 'Like what you see? Visit the ' +\n",
              "            '<a target=\"_blank\" href=https://colab.research.google.com/notebooks/data_table.ipynb>data table notebook</a>'\n",
              "            + ' to learn more about interactive tables.';\n",
              "          element.innerHTML = '';\n",
              "          dataTable['output_type'] = 'display_data';\n",
              "          await google.colab.output.renderOutput(dataTable, element);\n",
              "          const docLink = document.createElement('div');\n",
              "          docLink.innerHTML = docLinkHtml;\n",
              "          element.appendChild(docLink);\n",
              "        }\n",
              "      </script>\n",
              "    </div>\n",
              "  </div>\n",
              "  "
            ]
          },
          "metadata": {},
          "execution_count": 12
        }
      ]
    },
    {
      "cell_type": "code",
      "source": [
        "env = gym.make(\"stocks-v0\", df=df, frame_bound = (10,100), window_size = 5)"
      ],
      "metadata": {
        "colab": {
          "base_uri": "https://localhost:8080/"
        },
        "id": "4YoEernRZIQk",
        "outputId": "bf9aa620-40f2-49ea-e6f2-08fbc2397d50"
      },
      "execution_count": 13,
      "outputs": [
        {
          "output_type": "stream",
          "name": "stderr",
          "text": [
            "/usr/local/lib/python3.7/dist-packages/gym/utils/passive_env_checker.py:32: UserWarning: \u001b[33mWARN: A Box observation space has an unconventional shape (neither an image, nor a 1D vector). We recommend flattening the observation to have only a 1D vector or use a custom policy to properly process the data. Actual observation shape: (5, 2)\u001b[0m\n",
            "  \"A Box observation space has an unconventional shape (neither an image, nor a 1D vector). \"\n",
            "/usr/local/lib/python3.7/dist-packages/gym/core.py:318: DeprecationWarning: \u001b[33mWARN: Initializing wrapper in old step API which returns one bool instead of two. It is recommended to set `new_step_api=True` to use new step API. This will be the default behaviour in future.\u001b[0m\n",
            "  \"Initializing wrapper in old step API which returns one bool instead of two. It is recommended to set `new_step_api=True` to use new step API. This will be the default behaviour in future.\"\n",
            "/usr/local/lib/python3.7/dist-packages/gym/wrappers/step_api_compatibility.py:40: DeprecationWarning: \u001b[33mWARN: Initializing environment in old step API which returns one bool instead of two. It is recommended to set `new_step_api=True` to use new step API. This will be the default behaviour in future.\u001b[0m\n",
            "  \"Initializing environment in old step API which returns one bool instead of two. It is recommended to set `new_step_api=True` to use new step API. This will be the default behaviour in future.\"\n"
          ]
        }
      ]
    },
    {
      "cell_type": "code",
      "source": [
        "env.signal_features # [price, change in price]"
      ],
      "metadata": {
        "colab": {
          "base_uri": "https://localhost:8080/"
        },
        "id": "UKI1VTR2aGJb",
        "outputId": "d4a02d70-72db-4818-ccdf-318187eed386"
      },
      "execution_count": 15,
      "outputs": [
        {
          "output_type": "execute_result",
          "data": {
            "text/plain": [
              "array([[ 2.594e+04,  0.000e+00],\n",
              "       [ 2.654e+04,  6.000e+02],\n",
              "       [ 2.682e+04,  2.800e+02],\n",
              "       [ 2.698e+04,  1.600e+02],\n",
              "       [ 2.724e+04,  2.600e+02],\n",
              "       [ 2.700e+04, -2.400e+02],\n",
              "       [ 2.682e+04, -1.800e+02],\n",
              "       [ 2.690e+04,  8.000e+01],\n",
              "       [ 2.698e+04,  8.000e+01],\n",
              "       [ 2.710e+04,  1.200e+02],\n",
              "       [ 2.662e+04, -4.800e+02],\n",
              "       [ 2.614e+04, -4.800e+02],\n",
              "       [ 2.664e+04,  5.000e+02],\n",
              "       [ 2.728e+04,  6.400e+02],\n",
              "       [ 2.768e+04,  4.000e+02],\n",
              "       [ 2.834e+04,  6.600e+02],\n",
              "       [ 2.874e+04,  4.000e+02],\n",
              "       [ 2.808e+04, -6.600e+02],\n",
              "       [ 2.832e+04,  2.400e+02],\n",
              "       [ 2.826e+04, -6.000e+01],\n",
              "       [ 2.828e+04,  2.000e+01],\n",
              "       [ 2.812e+04, -1.600e+02],\n",
              "       [ 2.860e+04,  4.800e+02],\n",
              "       [ 2.860e+04,  0.000e+00],\n",
              "       [ 2.910e+04,  5.000e+02],\n",
              "       [ 2.908e+04, -2.000e+01],\n",
              "       [ 2.960e+04,  5.200e+02],\n",
              "       [ 2.982e+04,  2.200e+02],\n",
              "       [ 2.952e+04, -3.000e+02],\n",
              "       [ 2.980e+04,  2.800e+02],\n",
              "       [ 3.066e+04,  8.600e+02],\n",
              "       [ 3.030e+04, -3.600e+02],\n",
              "       [ 3.006e+04, -2.400e+02],\n",
              "       [ 3.030e+04,  2.400e+02],\n",
              "       [ 3.006e+04, -2.400e+02],\n",
              "       [ 2.884e+04, -1.220e+03],\n",
              "       [ 2.948e+04,  6.400e+02],\n",
              "       [ 2.940e+04, -8.000e+01],\n",
              "       [ 2.992e+04,  5.200e+02],\n",
              "       [ 3.044e+04,  5.200e+02],\n",
              "       [ 3.152e+04,  1.080e+03],\n",
              "       [ 3.086e+04, -6.600e+02],\n",
              "       [ 3.050e+04, -3.600e+02],\n",
              "       [ 3.040e+04, -1.000e+02],\n",
              "       [ 3.000e+04, -4.000e+02],\n",
              "       [ 3.000e+04,  0.000e+00],\n",
              "       [ 3.060e+04,  6.000e+02],\n",
              "       [ 3.066e+04,  6.000e+01],\n",
              "       [ 3.104e+04,  3.800e+02],\n",
              "       [ 3.024e+04, -8.000e+02],\n",
              "       [ 2.984e+04, -4.000e+02],\n",
              "       [ 2.938e+04, -4.600e+02],\n",
              "       [ 2.960e+04,  2.200e+02],\n",
              "       [ 2.908e+04, -5.200e+02],\n",
              "       [ 2.960e+04,  5.200e+02],\n",
              "       [ 2.946e+04, -1.400e+02],\n",
              "       [ 2.906e+04, -4.000e+02],\n",
              "       [ 2.834e+04, -7.200e+02],\n",
              "       [ 2.744e+04, -9.000e+02],\n",
              "       [ 2.818e+04,  7.400e+02],\n",
              "       [ 2.880e+04,  6.200e+02],\n",
              "       [ 2.896e+04,  1.600e+02],\n",
              "       [ 2.882e+04, -1.400e+02],\n",
              "       [ 2.874e+04, -8.000e+01],\n",
              "       [ 2.870e+04, -4.000e+01],\n",
              "       [ 2.854e+04, -1.600e+02],\n",
              "       [ 2.840e+04, -1.400e+02],\n",
              "       [ 2.924e+04,  8.400e+02],\n",
              "       [ 2.936e+04,  1.200e+02],\n",
              "       [ 2.974e+04,  3.800e+02],\n",
              "       [ 2.980e+04,  6.000e+01],\n",
              "       [ 2.996e+04,  1.600e+02],\n",
              "       [ 2.980e+04, -1.600e+02],\n",
              "       [ 2.984e+04,  4.000e+01],\n",
              "       [ 3.090e+04,  1.060e+03],\n",
              "       [ 3.100e+04,  1.000e+02],\n",
              "       [ 3.060e+04, -4.000e+02],\n",
              "       [ 3.060e+04,  0.000e+00],\n",
              "       [ 3.054e+04, -6.000e+01],\n",
              "       [ 3.054e+04,  0.000e+00],\n",
              "       [ 3.088e+04,  3.400e+02],\n",
              "       [ 3.078e+04, -1.000e+02],\n",
              "       [ 3.100e+04,  2.200e+02],\n",
              "       [ 3.120e+04,  2.000e+02],\n",
              "       [ 3.040e+04, -8.000e+02],\n",
              "       [ 2.998e+04, -4.200e+02],\n",
              "       [ 3.016e+04,  1.800e+02],\n",
              "       [ 2.988e+04, -2.800e+02],\n",
              "       [ 3.054e+04,  6.600e+02],\n",
              "       [ 3.040e+04, -1.400e+02],\n",
              "       [ 2.960e+04, -8.000e+02],\n",
              "       [ 2.890e+04, -7.000e+02],\n",
              "       [ 2.950e+04,  6.000e+02],\n",
              "       [ 2.920e+04, -3.000e+02],\n",
              "       [ 2.914e+04, -6.000e+01]])"
            ]
          },
          "metadata": {},
          "execution_count": 15
        }
      ]
    },
    {
      "cell_type": "code",
      "source": [
        "import matplotlib.pyplot as plt"
      ],
      "metadata": {
        "id": "R1pitS_TcjOq"
      },
      "execution_count": 19,
      "outputs": []
    },
    {
      "cell_type": "code",
      "source": [
        "env.action_space"
      ],
      "metadata": {
        "colab": {
          "base_uri": "https://localhost:8080/"
        },
        "id": "1Abq3roBdF3n",
        "outputId": "2044cd28-92e6-43ad-817f-0fc05a1b0dce"
      },
      "execution_count": 21,
      "outputs": [
        {
          "output_type": "execute_result",
          "data": {
            "text/plain": [
              "Discrete(2)"
            ]
          },
          "metadata": {},
          "execution_count": 21
        }
      ]
    },
    {
      "cell_type": "code",
      "source": [
        "state = env.reset()\n",
        "while True:\n",
        "  action = env.action_space.sample()\n",
        "  n_state, reward, done, info = env.step(action)\n",
        "  if done:\n",
        "    print(\"info\", info)\n",
        "    break\n",
        "    \n",
        "plt.figure(figsize=(15,6))\n",
        "plt.cla()\n",
        "env.render_all()\n",
        "plt.show()"
      ],
      "metadata": {
        "colab": {
          "base_uri": "https://localhost:8080/",
          "height": 326
        },
        "id": "1xV0RXNmaF4v",
        "outputId": "d8f2cb37-f9d4-4612-cfdc-c9064b044210"
      },
      "execution_count": 29,
      "outputs": [
        {
          "output_type": "stream",
          "name": "stdout",
          "text": [
            "info {'total_reward': 5300.0, 'total_profit': 0.8367194791891538, 'position': 0}\n"
          ]
        },
        {
          "output_type": "display_data",
          "data": {
            "text/plain": [
              "<Figure size 1080x432 with 1 Axes>"
            ],
            "image/png": "[encoded data removed]"
          },
          "metadata": {
            "needs_background": "light"
          }
        }
      ]
    },
    {
      "cell_type": "code",
      "source": [],
      "metadata": {
        "id": "qv29mRy7aF1b"
      },
      "execution_count": null,
      "outputs": []
    },
    {
      "cell_type": "code",
      "source": [],
      "metadata": {
        "id": "14Hr5GViaFxd"
      },
      "execution_count": null,
      "outputs": []
    },
    {
      "cell_type": "code",
      "source": [],
      "metadata": {
        "id": "Q_0azuZmaFs4"
      },
      "execution_count": null,
      "outputs": []
    },
    {
      "cell_type": "code",
      "source": [],
      "metadata": {
        "id": "bGoMU6i8aFn3"
      },
      "execution_count": null,
      "outputs": []
    },
    {
      "cell_type": "code",
      "source": [],
      "metadata": {
        "id": "jDDf0QAfZINf"
      },
      "execution_count": null,
      "outputs": []
    },
    {
      "cell_type": "code",
      "source": [
        "if __name__ == \"__main__\":\n",
        "    env = gym.make('CartPole-v1')\n",
        "    state_size = env.observation_space.shape[0]\n",
        "    action_size = env.action_space.n\n",
        "    # agent.load(\"./save/cartpole-ddqn.h5\")\n",
        "    done = False\n",
        "    batch_size = 32"
      ],
      "metadata": {
        "id": "EdN8MVv7oeeI"
      },
      "execution_count": 5,
      "outputs": []
    },
    {
      "cell_type": "code",
      "source": [
        "    print(action_size)"
      ],
      "metadata": {
        "colab": {
          "base_uri": "https://localhost:8080/"
        },
        "id": "EECUd9JZopWa",
        "outputId": "db98c504-5b89-48d8-e466-9fc61afc1142"
      },
      "execution_count": 6,
      "outputs": [
        {
          "output_type": "stream",
          "name": "stdout",
          "text": [
            "2\n"
          ]
        }
      ]
    },
    {
      "cell_type": "code",
      "source": [
        "random.randrange(action_size)"
      ],
      "metadata": {
        "colab": {
          "base_uri": "https://localhost:8080/"
        },
        "id": "Nwtg9RpDoxhy",
        "outputId": "240aa441-8dd4-468b-dd62-0e1f8c7b5119"
      },
      "execution_count": 15,
      "outputs": [
        {
          "output_type": "execute_result",
          "data": {
            "text/plain": [
              "1"
            ]
          },
          "metadata": {},
          "execution_count": 15
        }
      ]
    },
    {
      "cell_type": "code",
      "source": [
        "state_size = 3\n",
        "action_size = 3\n",
        "learning_rate = 0.001\n",
        "\n",
        "model = Sequential()\n",
        "model.add(Dense(24, input_dim=state_size, activation='relu'))\n",
        "model.add(Dense(24, activation='relu'))\n",
        "model.add(Dense(action_size, activation='linear'))\n",
        "model.compile(loss=\"mse\",\n",
        "              optimizer=Adam(lr=learning_rate))"
      ],
      "metadata": {
        "colab": {
          "base_uri": "https://localhost:8080/"
        },
        "id": "z4ZZpKDGpSx8",
        "outputId": "07c598c5-89c0-4f0e-84bb-eeef3680895c"
      },
      "execution_count": 16,
      "outputs": [
        {
          "output_type": "stream",
          "name": "stderr",
          "text": [
            "/usr/local/lib/python3.7/dist-packages/keras/optimizers/optimizer_v2/adam.py:110: UserWarning: The `lr` argument is deprecated, use `learning_rate` instead.\n",
            "  super(Adam, self).__init__(name, **kwargs)\n"
          ]
        }
      ]
    },
    {
      "cell_type": "code",
      "source": [
        "act_values = model.predict(2)\n",
        "np.argmax(act_values[0]) "
      ],
      "metadata": {
        "colab": {
          "base_uri": "https://localhost:8080/",
          "height": 360
        },
        "id": "pSP2gULtsvXy",
        "outputId": "cbcab963-0eb6-4f22-e84a-886c095102d2"
      },
      "execution_count": 17,
      "outputs": [
        {
          "output_type": "error",
          "ename": "IndexError",
          "evalue": "ignored",
          "traceback": [
            "\u001b[0;31m---------------------------------------------------------------------------\u001b[0m",
            "\u001b[0;31mIndexError\u001b[0m                                Traceback (most recent call last)",
            "\u001b[0;32m<ipython-input-17-e697be627125>\u001b[0m in \u001b[0;36m<module>\u001b[0;34m\u001b[0m\n\u001b[0;32m----> 1\u001b[0;31m \u001b[0mact_values\u001b[0m \u001b[0;34m=\u001b[0m \u001b[0mmodel\u001b[0m\u001b[0;34m.\u001b[0m\u001b[0mpredict\u001b[0m\u001b[0;34m(\u001b[0m\u001b[0;36m2\u001b[0m\u001b[0;34m)\u001b[0m\u001b[0;34m\u001b[0m\u001b[0;34m\u001b[0m\u001b[0m\n\u001b[0m\u001b[1;32m      2\u001b[0m \u001b[0mnp\u001b[0m\u001b[0;34m.\u001b[0m\u001b[0margmax\u001b[0m\u001b[0;34m(\u001b[0m\u001b[0mact_values\u001b[0m\u001b[0;34m[\u001b[0m\u001b[0;36m0\u001b[0m\u001b[0;34m]\u001b[0m\u001b[0;34m)\u001b[0m\u001b[0;34m\u001b[0m\u001b[0;34m\u001b[0m\u001b[0m\n",
            "\u001b[0;32m/usr/local/lib/python3.7/dist-packages/keras/utils/traceback_utils.py\u001b[0m in \u001b[0;36merror_handler\u001b[0;34m(*args, **kwargs)\u001b[0m\n\u001b[1;32m     65\u001b[0m     \u001b[0;32mexcept\u001b[0m \u001b[0mException\u001b[0m \u001b[0;32mas\u001b[0m \u001b[0me\u001b[0m\u001b[0;34m:\u001b[0m  \u001b[0;31m# pylint: disable=broad-except\u001b[0m\u001b[0;34m\u001b[0m\u001b[0;34m\u001b[0m\u001b[0m\n\u001b[1;32m     66\u001b[0m       \u001b[0mfiltered_tb\u001b[0m \u001b[0;34m=\u001b[0m \u001b[0m_process_traceback_frames\u001b[0m\u001b[0;34m(\u001b[0m\u001b[0me\u001b[0m\u001b[0;34m.\u001b[0m\u001b[0m__traceback__\u001b[0m\u001b[0;34m)\u001b[0m\u001b[0;34m\u001b[0m\u001b[0;34m\u001b[0m\u001b[0m\n\u001b[0;32m---> 67\u001b[0;31m       \u001b[0;32mraise\u001b[0m \u001b[0me\u001b[0m\u001b[0;34m.\u001b[0m\u001b[0mwith_traceback\u001b[0m\u001b[0;34m(\u001b[0m\u001b[0mfiltered_tb\u001b[0m\u001b[0;34m)\u001b[0m \u001b[0;32mfrom\u001b[0m \u001b[0;32mNone\u001b[0m\u001b[0;34m\u001b[0m\u001b[0;34m\u001b[0m\u001b[0m\n\u001b[0m\u001b[1;32m     68\u001b[0m     \u001b[0;32mfinally\u001b[0m\u001b[0;34m:\u001b[0m\u001b[0;34m\u001b[0m\u001b[0;34m\u001b[0m\u001b[0m\n\u001b[1;32m     69\u001b[0m       \u001b[0;32mdel\u001b[0m \u001b[0mfiltered_tb\u001b[0m\u001b[0;34m\u001b[0m\u001b[0;34m\u001b[0m\u001b[0m\n",
            "\u001b[0;32m/usr/local/lib/python3.7/dist-packages/tensorflow/python/framework/tensor_shape.py\u001b[0m in \u001b[0;36m__getitem__\u001b[0;34m(self, key)\u001b[0m\n\u001b[1;32m    907\u001b[0m       \u001b[0;32melse\u001b[0m\u001b[0;34m:\u001b[0m\u001b[0;34m\u001b[0m\u001b[0;34m\u001b[0m\u001b[0m\n\u001b[1;32m    908\u001b[0m         \u001b[0;32mif\u001b[0m \u001b[0mself\u001b[0m\u001b[0;34m.\u001b[0m\u001b[0m_v2_behavior\u001b[0m\u001b[0;34m:\u001b[0m\u001b[0;34m\u001b[0m\u001b[0;34m\u001b[0m\u001b[0m\n\u001b[0;32m--> 909\u001b[0;31m           \u001b[0;32mreturn\u001b[0m \u001b[0mself\u001b[0m\u001b[0;34m.\u001b[0m\u001b[0m_dims\u001b[0m\u001b[0;34m[\u001b[0m\u001b[0mkey\u001b[0m\u001b[0;34m]\u001b[0m\u001b[0;34m\u001b[0m\u001b[0;34m\u001b[0m\u001b[0m\n\u001b[0m\u001b[1;32m    910\u001b[0m         \u001b[0;32melse\u001b[0m\u001b[0;34m:\u001b[0m\u001b[0;34m\u001b[0m\u001b[0;34m\u001b[0m\u001b[0m\n\u001b[1;32m    911\u001b[0m           \u001b[0;32mreturn\u001b[0m \u001b[0mself\u001b[0m\u001b[0;34m.\u001b[0m\u001b[0mdims\u001b[0m\u001b[0;34m[\u001b[0m\u001b[0mkey\u001b[0m\u001b[0;34m]\u001b[0m\u001b[0;34m\u001b[0m\u001b[0;34m\u001b[0m\u001b[0m\n",
            "\u001b[0;31mIndexError\u001b[0m: tuple index out of range"
          ]
        }
      ]
    },
    {
      "cell_type": "code",
      "source": [],
      "metadata": {
        "id": "jIB2sWAItGSX"
      },
      "execution_count": null,
      "outputs": []
    }
  ]
}